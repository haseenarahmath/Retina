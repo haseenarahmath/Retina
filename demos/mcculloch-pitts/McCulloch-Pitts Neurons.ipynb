{
 "cells": [
  {
   "cell_type": "markdown",
   "metadata": {},
   "source": [
    "# A Guide to McCulloch and Pitts' Computational Model"
   ]
  },
  {
   "cell_type": "markdown",
   "metadata": {},
   "source": [
    "## Some Historical Background"
   ]
  },
  {
   "cell_type": "markdown",
   "metadata": {},
   "source": [
    "The early 20th century brought forth a surge of interest from mathematicians, computer scientists, and neuroscientists in formalizing the notion of computability. These cross-disciplinary efforts yielded a slew of characterizations of computational systems such as the Turing Machine and the Lambda Calculus. One of the lesser known outcomes of this movement was a neuronal model proposed by Warren McCulloch and Walter Pitts. It served as the precursor to the neural networks and machine learning tools of today, and it exhibits surprising computational scope and power given its formal simplicity."
   ]
  },
  {
   "cell_type": "markdown",
   "metadata": {},
   "source": [
    "## The Definition"
   ]
  },
  {
   "cell_type": "markdown",
   "metadata": {},
   "source": [
    "Simply put, a McCulloch-Pitts neuron consists of the following:\n",
    "\n",
    "1. A node having a specified *threshold* value.\n",
    "2. A finite, but unlimited, number of binary-valued inputs to the node. Each input is one of two types:\n",
    "    - *Excitatory* inputs contribute to the global excitation of a node. If the sum of the node's excitatory input values equals or exceeds the node's threshold, the neuron is considered to be activated and \"fires,\" outputting a value of 1. If, however, the total excitation falls below the threshold of the node, the unit does not fire and outputs 0.\n",
    "    - *Inhibitory* inputs impede neuronal excitation. If any of the inhibitory inputs transmits a value of 1, the neuron is considered to be inhibited and does not fire as indicated by its output value of 0.\n",
    "    \n",
    "Given this definition, four natural questions arise.\n",
    "\n",
    "1. What types of functions is a network of McCulloch-Pitts neurons capable of computing?\n",
    "2. Is it possible to dispense with the inclusion of inhibitory inputs while retaining the same class of computable functions?\n",
    "3. Is the binary nature of the neuron's inputs an impediment to its computational breadth? In other words, can we extend the class of functions which the network is capable of computing by allowing the inputs (weights) of our network to take on arbitrary real values.\n",
    "4. Is their something to be gained by allowing for the *relative inhibition* of neurons, whereby inhibitory inputs merely decrease the total excitation of a unit without necessarily preventing it from firing altogether?\n",
    "\n",
    "We will provide an answer to each of these in the following sections of this tutorial. But first, let's take a look at how the McCulloch-Pitts neuron can be implemented in code. Retina provides its own `MPNeuron` and `MPInput` classes in the machine learning module. They are reproduced here."
   ]
  },
  {
   "cell_type": "code",
   "execution_count": 2,
   "metadata": {
    "collapsed": true
   },
   "outputs": [],
   "source": [
    "class MPNeuron(object):\n",
    "    def __init__(self, threshold, inputs):\n",
    "        self.threshold = threshold\n",
    "        self.inputs = inputs\n",
    "\n",
    "    def activate(self):\n",
    "        excitations = 0 \n",
    "        for trigger in self.inputs:\n",
    "            if trigger.excitatory:\n",
    "                excitations += trigger.value\n",
    "            else:\n",
    "                if trigger.value:\n",
    "                    return 0\n",
    "        if excitations >= self.threshold:\n",
    "            return 1 \n",
    "        return 0 \n",
    "\n",
    "class MPInput(object):\n",
    "    def __init__(self, excitatory):\n",
    "        self.excitatory = excitatory\n",
    "        self.value = 0 \n",
    "\n",
    "    def trigger(self, value):\n",
    "        self.value = value "
   ]
  },
  {
   "cell_type": "markdown",
   "metadata": {},
   "source": [
    "Here, the `MPNeuron` corresponds to the \"node\" concept described above. Each neuron is constructed with a threshold value and a list of `MPInput` objects. Each of these objects is constructed by specifying `excitatory=True` or `excitatory=False`. A value of `False` indicates that the input is inhibitory. `trigger`ing the input assigns it a value.\n",
    "\n",
    "The `activate` function of the `MPNeuron` class sums the values of all the inputs to the neuron and returns 1 if the neuron fires and 0 otherwise."
   ]
  },
  {
   "cell_type": "markdown",
   "metadata": {},
   "source": [
    "## The Functional Completeness of the McCulloch-Pitts Model"
   ]
  },
  {
   "cell_type": "markdown",
   "metadata": {},
   "source": [
    "It turns out that every $n$-ary logical function can be computed by a McCulloch-Pitts network composed of a sufficient number of units. For a proof of this, we will appeal to a standard result from propositional logic: namely, that any set of *adequate* connectives is sufficient for expressing any given truth table. It is well known that the binary boolean operators AND and NOT are adequate, so to show that any n-ary logical function can be expressed by some McCulloch-Pitts network, we need only show that we can devise neurons equivalent to the AND and OR operators. Then, any logical function can be constructed by linking together some number of these units in a sensible way."
   ]
  },
  {
   "cell_type": "markdown",
   "metadata": {},
   "source": [
    "### Three Boolean Operators as McCulloch-Pitts Neurons"
   ]
  },
  {
   "cell_type": "markdown",
   "metadata": {},
   "source": [
    "Pictured below are representations of three different McCulloch-Pitts neurons capable of computing the binary logical functions AND, OR, and NOT, respectively.\n",
    "\n",
    "![AND-OR-NOT](imgs/and-or-not.png)"
   ]
  },
  {
   "cell_type": "markdown",
   "metadata": {},
   "source": [
    "In each case $x_1$ and $x_2$ (just $x_1$ in the case of NOT) are the inputs to the units. The circle at the terminal end of an input indicates that it is inhibitory. All other inputs are excitatory."
   ]
  },
  {
   "cell_type": "markdown",
   "metadata": {},
   "source": [
    "We can verify that these units compute the functions they claim to by comparing their outputs with the truth table for each function. Let's start with AND. The truth table is given by:\n",
    "\n",
    "| $x_1$ | $x_2$ | AND($x_1$, $x_2$) |\n",
    "| ----- | ----- | ----------------- |\n",
    "| 0     | 0     | 0                 |\n",
    "| 1     | 0     | 0                 |\n",
    "| 0     | 1     | 0                 |\n",
    "| 1     | 1     | 1                 |\n",
    "\n",
    "Now, to compute the output of the neuron:\n",
    "\n",
    "$x_1 = 0$, $x_2 = 0$, and $x_1 + x_2 = 0 + 0 = 0 < 2$ so the neuron outputs 0.\n",
    "\n",
    "$x_1 = 1$, $x_2 = 0$, and $x_1 + x_2 = 1 + 0 = 1 < 2$ so the neuron outputs 0.\n",
    "\n",
    "$x_1 = 0$, $x_2 = 1$, and $x_1 + x_2 = 0 + 1 = 1 < 2$ so the neuron outputs 0.\n",
    "\n",
    "$x_1 = 1$, $x_2 = 1$, and $x_1 + x_2 = 1 + 1 = 2$ so the neuron outputs 1."
   ]
  },
  {
   "cell_type": "markdown",
   "metadata": {},
   "source": [
    "Now, let's do the same for NOT. The truth table is given by:\n",
    "\n",
    "| $x_1$ | NOT($x_1$) |\n",
    "| ----- | ---------- |\n",
    "| 0     | 1          |\n",
    "| 1     | 0          |\n",
    "\n",
    "Now, to compute the output of the corresponding neuron.\n",
    "\n",
    "If $x_1 = 0$ then the neuron is not inhibited and the total excitation is 0 which is equal to the threshold of 0. Thus the neuron outputs 1.\n",
    "\n",
    "If $x_1 = 1$ then the neuron is inhibited and does not fire, outputting 0.\n",
    "\n",
    "Finally, we'll check the consistency of the two definitions of OR.\n",
    "\n",
    "| $x_1$ | $x_2$ | OR($x_1$, $x_2$) |\n",
    "| ----- | ----- | ----------------- |\n",
    "| 0     | 0     | 0                 |\n",
    "| 1     | 0     | 1                 |\n",
    "| 0     | 1     | 1                 |\n",
    "| 1     | 1     | 1                 |\n",
    "\n",
    "Now, to compute the output of the neuron:\n",
    "\n",
    "$x_1 = 0$, $x_2 = 0$, and $x_1 + x_2 = 0 + 0 = 0 < 1$ so the neuron outputs 0.\n",
    "\n",
    "$x_1 = 1$, $x_2 = 0$, and $x_1 + x_2 = 1 + 0 = 1$ so the neuron outputs 1.\n",
    "\n",
    "$x_1 = 0$, $x_2 = 1$, and $x_1 + x_2 = 0 + 1 = 1$ so the neuron outputs 1.\n",
    "\n",
    "$x_1 = 1$, $x_2 = 1$, and $x_1 + x_2 = 1 + 1 > 2$ so the neuron outputs 1."
   ]
  },
  {
   "cell_type": "markdown",
   "metadata": {},
   "source": [
    "Since $\\{AND, NOT\\}$ is adequate, this proves that any logical function can be computed by a network of McCulloch-Pitts neurons.\n",
    "\n",
    "Now that we have abstractly specified the configuration of the AND and NOT neurons, lets see how to implement them using the `MPNeuron` and `MPInput` classes defined above."
   ]
  },
  {
   "cell_type": "code",
   "execution_count": 3,
   "metadata": {
    "collapsed": true
   },
   "outputs": [],
   "source": [
    "def AND(x1, x2):\n",
    "    inputs = [MPInput(True), MPInput(True)]\n",
    "    gate = MPNeuron(2, inputs)\n",
    "    inputs[0].trigger(x1)\n",
    "    inputs[1].trigger(x2)\n",
    "    return gate.activate()\n",
    "\n",
    "def OR(x1, x2):\n",
    "    inputs = [MPInput(True), MPInput(True)]\n",
    "    gate = MPNeuron(1, inputs)\n",
    "    inputs[0].trigger(x1)\n",
    "    inputs[1].trigger(x2)\n",
    "    return gate.activate()\n",
    "\n",
    "def NOT(x):\n",
    "    inputs = [MPInput(False)]\n",
    "    gate = MPNeuron(0, inputs)\n",
    "    inputs[0].trigger(x)\n",
    "    return gate.activate()"
   ]
  },
  {
   "cell_type": "markdown",
   "metadata": {},
   "source": [
    "Let's test these functions on a few representative inputs."
   ]
  },
  {
   "cell_type": "code",
   "execution_count": 4,
   "metadata": {
    "collapsed": false
   },
   "outputs": [
    {
     "data": {
      "text/plain": [
       "1"
      ]
     },
     "execution_count": 4,
     "metadata": {},
     "output_type": "execute_result"
    }
   ],
   "source": [
    "NOT(0)"
   ]
  },
  {
   "cell_type": "code",
   "execution_count": 5,
   "metadata": {
    "collapsed": false
   },
   "outputs": [
    {
     "data": {
      "text/plain": [
       "0"
      ]
     },
     "execution_count": 5,
     "metadata": {},
     "output_type": "execute_result"
    }
   ],
   "source": [
    "NOT(1)"
   ]
  },
  {
   "cell_type": "code",
   "execution_count": 7,
   "metadata": {
    "collapsed": false
   },
   "outputs": [
    {
     "data": {
      "text/plain": [
       "0"
      ]
     },
     "execution_count": 7,
     "metadata": {},
     "output_type": "execute_result"
    }
   ],
   "source": [
    "AND(0, 0)"
   ]
  },
  {
   "cell_type": "code",
   "execution_count": 8,
   "metadata": {
    "collapsed": false
   },
   "outputs": [
    {
     "data": {
      "text/plain": [
       "0"
      ]
     },
     "execution_count": 8,
     "metadata": {},
     "output_type": "execute_result"
    }
   ],
   "source": [
    "AND(0, 1)"
   ]
  },
  {
   "cell_type": "code",
   "execution_count": 9,
   "metadata": {
    "collapsed": false
   },
   "outputs": [
    {
     "data": {
      "text/plain": [
       "0"
      ]
     },
     "execution_count": 9,
     "metadata": {},
     "output_type": "execute_result"
    }
   ],
   "source": [
    "AND(1, 0)"
   ]
  },
  {
   "cell_type": "code",
   "execution_count": 10,
   "metadata": {
    "collapsed": false
   },
   "outputs": [
    {
     "data": {
      "text/plain": [
       "1"
      ]
     },
     "execution_count": 10,
     "metadata": {},
     "output_type": "execute_result"
    }
   ],
   "source": [
    "AND(1, 1)"
   ]
  },
  {
   "cell_type": "code",
   "execution_count": 11,
   "metadata": {
    "collapsed": false
   },
   "outputs": [
    {
     "data": {
      "text/plain": [
       "0"
      ]
     },
     "execution_count": 11,
     "metadata": {},
     "output_type": "execute_result"
    }
   ],
   "source": [
    "OR(0, 0)"
   ]
  },
  {
   "cell_type": "code",
   "execution_count": 12,
   "metadata": {
    "collapsed": false
   },
   "outputs": [
    {
     "data": {
      "text/plain": [
       "1"
      ]
     },
     "execution_count": 12,
     "metadata": {},
     "output_type": "execute_result"
    }
   ],
   "source": [
    "OR(0, 1)"
   ]
  },
  {
   "cell_type": "code",
   "execution_count": 13,
   "metadata": {
    "collapsed": false
   },
   "outputs": [
    {
     "data": {
      "text/plain": [
       "1"
      ]
     },
     "execution_count": 13,
     "metadata": {},
     "output_type": "execute_result"
    }
   ],
   "source": [
    "OR(1, 0)"
   ]
  },
  {
   "cell_type": "code",
   "execution_count": 14,
   "metadata": {
    "collapsed": false
   },
   "outputs": [
    {
     "data": {
      "text/plain": [
       "1"
      ]
     },
     "execution_count": 14,
     "metadata": {},
     "output_type": "execute_result"
    }
   ],
   "source": [
    "OR(1, 1)"
   ]
  },
  {
   "cell_type": "markdown",
   "metadata": {},
   "source": [
    "## The Necessity of Inhibition for McCulloch-Pitts Neurons"
   ]
  },
  {
   "cell_type": "markdown",
   "metadata": {},
   "source": [
    "The requirement of inhibition is necessary for the functional completeness of the McCulloch-Pitts neuron. In fact, it is the case that the uninhibited threshold logic can only implement monotonic logical functions.\n",
    "\n",
    "*Proof* (Taken from *Neural Networks* by Raul Rojas)\n",
    "\n",
    "Assume that the input vector $(1, 1, \\ldots, 1)$ is assigned the function value 0. Since no other vector can set more edges in the network to 1 than this vector does, any other input vector can also only be evaluated to 0. In general, if the ones in the input vector $y$ are a subset of the ones in the input vector $x$, then the first cannot set more edges to 1 than $x$ does. This implies that $f(x) \\geq f(y)$, as had to be shown."
   ]
  },
  {
   "cell_type": "markdown",
   "metadata": {},
   "source": [
    "## The Redundancy of Relative Inhibition"
   ]
  },
  {
   "cell_type": "markdown",
   "metadata": {},
   "source": [
    "It is the case that allowing for relative inhibition of McCulloch-Pitts neurons does not expand the class of functions computable by their networks.\n",
    "\n",
    "*Proof*: To be added soon."
   ]
  },
  {
   "cell_type": "markdown",
   "metadata": {},
   "source": [
    "## Decoding a Logical Function into a McCulloch-Pitts Network"
   ]
  },
  {
   "cell_type": "markdown",
   "metadata": {},
   "source": [
    "Since any logical function can be computed by a McCulloch-Pitts network, we now seek to generalize the converse. Given an arbitrary logical function, how can we construct a McCulloch-Pitts network to compute it?\n",
    "\n",
    "It should be evident that any $n$-ary logical function is completely determined by specifying those inputs which are the preimage of 1. For a given function $f:\\{0, 1\\}^n \\to \\{0, 1\\}$, consider an argument $(x_1, \\ldots, x_n)$ which is a preimage of 1. We can construct a McCulloch-Pitts neuron which fires when presented with this and only this input as follows. Define\n",
    "\n",
    "1. The threshold value of the decoder unit is $\\sum_{i=1}^n x_i$.\n",
    "2. $x_i$ is an excitatory input if $x_i = 1$.\n",
    "3. $x_i$ is an inhibitory input if $x_i = 0$.\n",
    "\n",
    "Now, say we want to construct a network to compute $f$. To accomplish this, we generate the McCulloch-Pitts neuron defined above for each $(x_1, \\ldots, x_n)$ in the preimage of 1. Say there are $m$ vectors in the preimage of 1. We then feed the output of these $m$ units to a $m$-ary OR neuron which can be defined in the following way\n",
    "\n",
    "1. The threshold value of the unit is 1.\n",
    "2. Each of the $m$ inputs is excitatory.\n",
    "\n",
    "The resulting network computes $f$, so this concludes the proof. Now, let's see how we can define such a network constructor in code. In Retina, we have implemented such a class and called it a `Decoder`."
   ]
  },
  {
   "cell_type": "code",
   "execution_count": 15,
   "metadata": {
    "collapsed": true
   },
   "outputs": [],
   "source": [
    "class Decoder(object):\n",
    "    def __init__(self, vectors):\n",
    "        self.vectors = vectors\n",
    "        self.vec_length = len(self.vectors[0])\n",
    "        assert(len(vec) == self.vec_length for vec in vectors)\n",
    "\n",
    "    def decode(self):\n",
    "        decoder_units = []\n",
    "        for vector in self.vectors:\n",
    "            threshold = sum(vector)\n",
    "            inputs = []\n",
    "            for i in range(self.vec_length):\n",
    "                if vector[i] == 1:\n",
    "                    inputs.append(MPInput(True))\n",
    "                else:\n",
    "                    inputs.append(MPInput(False))\n",
    "            gate = MPNeuron(threshold, inputs)\n",
    "            decoder_units.append(gate)\n",
    "        \n",
    "        def decoder(*args):\n",
    "            for i in range(self.vec_length):\n",
    "                inputs[i].trigger(args[i])\n",
    "            decoder_units.reverse()\n",
    "            or_arg = decoder_units[0].activate()\n",
    "            for unit in decoder_units:\n",
    "                for i in range(self.vec_length):\n",
    "                    unit.inputs[i].trigger(args[i])\n",
    "                val = unit.activate()\n",
    "                or_arg = OR(or_arg, val)\n",
    "            return or_arg\n",
    "\n",
    "        return decoder"
   ]
  },
  {
   "cell_type": "markdown",
   "metadata": {},
   "source": [
    "The `Decoder` class is instantiated with a list of vectors in the preimage of 1. When the `decode` function is called, the logical function defined by this preimage is returned. Let's see how this works. Suppose we want to generate a logical function which sends $(0, 1, 0)$, $(0, 1, 1)$, and $(1, 0, 1)$ to 1 and all other 3-ary inputs to 0. We can accomplish this with the following code."
   ]
  },
  {
   "cell_type": "code",
   "execution_count": 16,
   "metadata": {
    "collapsed": true
   },
   "outputs": [],
   "source": [
    "decoder = Decoder([[0, 1, 0], [0, 1, 1], [1, 0, 1]])\n",
    "\n",
    "f = decoder.decode()"
   ]
  },
  {
   "cell_type": "code",
   "execution_count": 17,
   "metadata": {
    "collapsed": false
   },
   "outputs": [
    {
     "data": {
      "text/plain": [
       "1"
      ]
     },
     "execution_count": 17,
     "metadata": {},
     "output_type": "execute_result"
    }
   ],
   "source": [
    "f(0, 1, 0)"
   ]
  },
  {
   "cell_type": "code",
   "execution_count": 18,
   "metadata": {
    "collapsed": false
   },
   "outputs": [
    {
     "data": {
      "text/plain": [
       "1"
      ]
     },
     "execution_count": 18,
     "metadata": {},
     "output_type": "execute_result"
    }
   ],
   "source": [
    "f(0, 1, 1)"
   ]
  },
  {
   "cell_type": "code",
   "execution_count": 19,
   "metadata": {
    "collapsed": false
   },
   "outputs": [
    {
     "data": {
      "text/plain": [
       "1"
      ]
     },
     "execution_count": 19,
     "metadata": {},
     "output_type": "execute_result"
    }
   ],
   "source": [
    "f(1, 0, 1)"
   ]
  },
  {
   "cell_type": "code",
   "execution_count": 20,
   "metadata": {
    "collapsed": false
   },
   "outputs": [
    {
     "data": {
      "text/plain": [
       "0"
      ]
     },
     "execution_count": 20,
     "metadata": {},
     "output_type": "execute_result"
    }
   ],
   "source": [
    "f(0, 0, 0)"
   ]
  },
  {
   "cell_type": "code",
   "execution_count": 21,
   "metadata": {
    "collapsed": false
   },
   "outputs": [
    {
     "data": {
      "text/plain": [
       "0"
      ]
     },
     "execution_count": 21,
     "metadata": {},
     "output_type": "execute_result"
    }
   ],
   "source": [
    "f(0, 0, 1)"
   ]
  },
  {
   "cell_type": "code",
   "execution_count": 23,
   "metadata": {
    "collapsed": false
   },
   "outputs": [
    {
     "data": {
      "text/plain": [
       "0"
      ]
     },
     "execution_count": 23,
     "metadata": {},
     "output_type": "execute_result"
    }
   ],
   "source": [
    "f(1, 0, 0)"
   ]
  },
  {
   "cell_type": "code",
   "execution_count": 24,
   "metadata": {
    "collapsed": false
   },
   "outputs": [
    {
     "data": {
      "text/plain": [
       "0"
      ]
     },
     "execution_count": 24,
     "metadata": {},
     "output_type": "execute_result"
    }
   ],
   "source": [
    "f(1, 1, 0)"
   ]
  },
  {
   "cell_type": "code",
   "execution_count": 25,
   "metadata": {
    "collapsed": false
   },
   "outputs": [
    {
     "data": {
      "text/plain": [
       "0"
      ]
     },
     "execution_count": 25,
     "metadata": {},
     "output_type": "execute_result"
    }
   ],
   "source": [
    "f(1, 1, 1)"
   ]
  },
  {
   "cell_type": "markdown",
   "metadata": {},
   "source": [
    "And there you have it, concrete proof that any logical function can be computed using a network of McCulloch-Pitts neurons!"
   ]
  }
 ],
 "metadata": {
  "kernelspec": {
   "display_name": "Python 3",
   "language": "python",
   "name": "python3"
  },
  "language_info": {
   "codemirror_mode": {
    "name": "ipython",
    "version": 3
   },
   "file_extension": ".py",
   "mimetype": "text/x-python",
   "name": "python",
   "nbconvert_exporter": "python",
   "pygments_lexer": "ipython3",
   "version": "3.4.3"
  }
 },
 "nbformat": 4,
 "nbformat_minor": 0
}
